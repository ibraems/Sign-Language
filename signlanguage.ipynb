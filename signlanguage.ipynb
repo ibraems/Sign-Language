{
 "cells": [
  {
   "cell_type": "markdown",
   "metadata": {},
   "source": [
    "# Predicting Sign Language - Deep Learning Neural Networks"
   ]
  },
  {
   "cell_type": "code",
   "execution_count": 66,
   "metadata": {},
   "outputs": [],
   "source": [
    "import numpy as np\n",
    "import pandas as pd\n",
    "import sklearn as sk"
   ]
  },
  {
   "cell_type": "markdown",
   "metadata": {},
   "source": [
    "### Load and explore the dataset "
   ]
  },
  {
   "cell_type": "code",
   "execution_count": 67,
   "metadata": {},
   "outputs": [],
   "source": [
    "X =np.load('Sign-language-digits-dataset 2/X.npy') "
   ]
  },
  {
   "cell_type": "code",
   "execution_count": 68,
   "metadata": {},
   "outputs": [],
   "source": [
    "y =np.load('Sign-language-digits-dataset 2/y.npy')"
   ]
  },
  {
   "cell_type": "code",
   "execution_count": 69,
   "metadata": {},
   "outputs": [
    {
     "data": {
      "text/plain": [
       "(2062, 64, 64)"
      ]
     },
     "execution_count": 69,
     "metadata": {},
     "output_type": "execute_result"
    }
   ],
   "source": [
    "X.shape"
   ]
  },
  {
   "cell_type": "code",
   "execution_count": 70,
   "metadata": {},
   "outputs": [
    {
     "data": {
      "text/plain": [
       "(2062, 10)"
      ]
     },
     "execution_count": 70,
     "metadata": {},
     "output_type": "execute_result"
    }
   ],
   "source": [
    "y.shape"
   ]
  },
  {
   "cell_type": "code",
   "execution_count": 71,
   "metadata": {},
   "outputs": [
    {
     "data": {
      "text/plain": [
       "2062"
      ]
     },
     "execution_count": 71,
     "metadata": {},
     "output_type": "execute_result"
    }
   ],
   "source": [
    "len (y)"
   ]
  },
  {
   "cell_type": "code",
   "execution_count": 72,
   "metadata": {},
   "outputs": [
    {
     "data": {
      "text/plain": [
       "2062"
      ]
     },
     "execution_count": 72,
     "metadata": {},
     "output_type": "execute_result"
    }
   ],
   "source": [
    "len (X)"
   ]
  },
  {
   "cell_type": "markdown",
   "metadata": {},
   "source": [
    "### Split the dataset into train and test"
   ]
  },
  {
   "cell_type": "code",
   "execution_count": 73,
   "metadata": {},
   "outputs": [],
   "source": [
    "from sklearn.model_selection import train_test_split"
   ]
  },
  {
   "cell_type": "code",
   "execution_count": 74,
   "metadata": {},
   "outputs": [],
   "source": [
    "X_train, X_test, y_train, y_test = train_test_split(X, y,test_size=0.25)"
   ]
  },
  {
   "cell_type": "markdown",
   "metadata": {},
   "source": [
    "### Building the Model"
   ]
  },
  {
   "cell_type": "code",
   "execution_count": 75,
   "metadata": {},
   "outputs": [],
   "source": [
    "import tensorflow as tf\n",
    "from keras.layers import Dense\n",
    "from keras.models import Sequential\n",
    "from tensorflow.keras.models import Sequential\n",
    "from tensorflow import keras\n",
    "from tensorflow.keras.layers import Dense, Activation, Flatten"
   ]
  },
  {
   "cell_type": "code",
   "execution_count": 76,
   "metadata": {},
   "outputs": [],
   "source": [
    "model = tf.keras.models.Sequential()  \n",
    "model.add(tf.keras.layers.Flatten(input_shape=(64, 64)))\n",
    "model.add(tf.keras.layers.Dense(128, activation=tf.nn.relu))\n",
    "model.add(tf.keras.layers.Dense(128, activation=tf.nn.relu))  \n",
    "model.add(tf.keras.layers.Dense(10, activation=tf.nn.softmax))  "
   ]
  },
  {
   "cell_type": "code",
   "execution_count": 77,
   "metadata": {},
   "outputs": [],
   "source": [
    "model.compile(optimizer='adam', loss='binary_crossentropy', metrics=['accuracy'])  "
   ]
  },
  {
   "cell_type": "code",
   "execution_count": 78,
   "metadata": {},
   "outputs": [
    {
     "name": "stdout",
     "output_type": "stream",
     "text": [
      "Train on 1530 samples, validate on 16 samples\n",
      "Epoch 1/25\n",
      "1530/1530 [==============================] - 2s 1ms/step - loss: 0.3509 - acc: 0.9000 - val_loss: 0.3415 - val_acc: 0.9000\n",
      "Epoch 2/25\n",
      "1530/1530 [==============================] - 0s 229us/step - loss: 0.3267 - acc: 0.9000 - val_loss: 0.3408 - val_acc: 0.9000\n",
      "Epoch 3/25\n",
      "1530/1530 [==============================] - 0s 234us/step - loss: 0.3205 - acc: 0.9000 - val_loss: 0.3057 - val_acc: 0.9000\n",
      "Epoch 4/25\n",
      "1530/1530 [==============================] - 0s 235us/step - loss: 0.3101 - acc: 0.9002 - val_loss: 0.2938 - val_acc: 0.9000\n",
      "Epoch 5/25\n",
      "1530/1530 [==============================] - 0s 235us/step - loss: 0.2956 - acc: 0.9005 - val_loss: 0.2879 - val_acc: 0.9000\n",
      "Epoch 6/25\n",
      "1530/1530 [==============================] - 0s 234us/step - loss: 0.2798 - acc: 0.9027 - val_loss: 0.2790 - val_acc: 0.9125\n",
      "Epoch 7/25\n",
      "1530/1530 [==============================] - 0s 240us/step - loss: 0.2741 - acc: 0.9054 - val_loss: 0.2600 - val_acc: 0.9125\n",
      "Epoch 8/25\n",
      "1530/1530 [==============================] - 0s 249us/step - loss: 0.2516 - acc: 0.9063 - val_loss: 0.2594 - val_acc: 0.9125\n",
      "Epoch 9/25\n",
      "1530/1530 [==============================] - 0s 247us/step - loss: 0.2376 - acc: 0.9093 - val_loss: 0.2435 - val_acc: 0.9187\n",
      "Epoch 10/25\n",
      "1530/1530 [==============================] - 0s 241us/step - loss: 0.2301 - acc: 0.9118 - val_loss: 0.2158 - val_acc: 0.9187\n",
      "Epoch 11/25\n",
      "1530/1530 [==============================] - 0s 226us/step - loss: 0.2186 - acc: 0.9161 - val_loss: 0.1908 - val_acc: 0.9312\n",
      "Epoch 12/25\n",
      "1530/1530 [==============================] - 0s 250us/step - loss: 0.2130 - acc: 0.9181 - val_loss: 0.2272 - val_acc: 0.9187\n",
      "Epoch 13/25\n",
      "1530/1530 [==============================] - 0s 250us/step - loss: 0.1995 - acc: 0.9232 - val_loss: 0.1982 - val_acc: 0.9312\n",
      "Epoch 14/25\n",
      "1530/1530 [==============================] - 0s 273us/step - loss: 0.2143 - acc: 0.9179 - val_loss: 0.1688 - val_acc: 0.9312\n",
      "Epoch 15/25\n",
      "1530/1530 [==============================] - 0s 268us/step - loss: 0.1991 - acc: 0.9231 - val_loss: 0.2073 - val_acc: 0.9312\n",
      "Epoch 16/25\n",
      "1530/1530 [==============================] - 0s 247us/step - loss: 0.1793 - acc: 0.9298 - val_loss: 0.1811 - val_acc: 0.9375\n",
      "Epoch 17/25\n",
      "1530/1530 [==============================] - 0s 252us/step - loss: 0.1754 - acc: 0.9319 - val_loss: 0.2072 - val_acc: 0.9312\n",
      "Epoch 18/25\n",
      "1530/1530 [==============================] - 0s 249us/step - loss: 0.1677 - acc: 0.9339 - val_loss: 0.1553 - val_acc: 0.9438\n",
      "Epoch 19/25\n",
      "1530/1530 [==============================] - 0s 239us/step - loss: 0.1662 - acc: 0.9369 - val_loss: 0.1329 - val_acc: 0.9500\n",
      "Epoch 20/25\n",
      "1530/1530 [==============================] - 0s 246us/step - loss: 0.1542 - acc: 0.9405 - val_loss: 0.1456 - val_acc: 0.9500\n",
      "Epoch 21/25\n",
      "1530/1530 [==============================] - 0s 247us/step - loss: 0.1507 - acc: 0.9418 - val_loss: 0.2052 - val_acc: 0.9375\n",
      "Epoch 22/25\n",
      "1530/1530 [==============================] - 0s 270us/step - loss: 0.1595 - acc: 0.9388 - val_loss: 0.2016 - val_acc: 0.9500\n",
      "Epoch 23/25\n",
      "1530/1530 [==============================] - 0s 277us/step - loss: 0.1571 - acc: 0.9409 - val_loss: 0.1662 - val_acc: 0.9500\n",
      "Epoch 24/25\n",
      "1530/1530 [==============================] - 0s 255us/step - loss: 0.1506 - acc: 0.9447 - val_loss: 0.1345 - val_acc: 0.9563\n",
      "Epoch 25/25\n",
      "1530/1530 [==============================] - 0s 245us/step - loss: 0.1378 - acc: 0.9484 - val_loss: 0.1805 - val_acc: 0.9500\n"
     ]
    },
    {
     "data": {
      "text/plain": [
       "<tensorflow.python.keras.callbacks.History at 0x1a5ab5ea90>"
      ]
     },
     "execution_count": 78,
     "metadata": {},
     "output_type": "execute_result"
    }
   ],
   "source": [
    "model.fit(X_train, y_train, batch_size=80, epochs=25, validation_split=0.01)"
   ]
  },
  {
   "cell_type": "code",
   "execution_count": 79,
   "metadata": {},
   "outputs": [
    {
     "name": "stdout",
     "output_type": "stream",
     "text": [
      "516/516 [==============================] - 0s 83us/step\n",
      "Model loss:     0.14713075629962508\n",
      "Model accuracy: 0.945542670035547\n"
     ]
    }
   ],
   "source": [
    "val_loss, val_acc = model.evaluate(X_test, y_test)  # evaluate the out of sample data with model\n",
    "print('Model loss:    ', val_loss) \n",
    "print('Model accuracy:', val_acc)  # Model's accuracy"
   ]
  },
  {
   "cell_type": "markdown",
   "metadata": {},
   "source": [
    "### Prediction"
   ]
  },
  {
   "cell_type": "code",
   "execution_count": 80,
   "metadata": {},
   "outputs": [],
   "source": [
    "pred = model.predict_classes(X_test)"
   ]
  },
  {
   "cell_type": "code",
   "execution_count": 81,
   "metadata": {},
   "outputs": [
    {
     "data": {
      "text/plain": [
       "array([7, 6, 9, 1, 3, 2, 9, 8, 0, 3, 9, 7, 7, 6, 0, 1, 5, 4, 2, 4, 2, 0,\n",
       "       2, 0, 3, 2, 5, 9, 0, 3, 7, 7, 1, 9, 3, 0, 3, 0, 3, 1, 3, 6, 3, 8,\n",
       "       3, 0, 6, 9, 8, 5, 0, 1, 4, 4, 8, 2, 5, 0, 8, 6, 8, 6, 5, 5, 5, 1,\n",
       "       4, 5, 1, 8, 5, 5, 8, 5, 4, 3, 5, 5, 8, 2, 7, 5, 2, 5, 2, 0, 5, 3,\n",
       "       0, 0, 0, 5, 6, 4, 3, 3, 2, 9, 9, 5, 0, 1, 1, 4, 7, 6, 4, 2, 5, 5,\n",
       "       2, 5, 0, 1, 8, 7, 9, 7, 3, 8, 2, 2, 7, 4, 3, 9, 5, 0, 9, 3, 7, 3,\n",
       "       9, 9, 9, 0, 1, 5, 8, 4, 5, 0, 1, 3, 8, 0, 6, 4, 5, 9, 5, 4, 9, 5,\n",
       "       4, 9, 1, 5, 8, 0, 5, 0, 0, 0, 3, 5, 0, 7, 6, 1, 6, 5, 7, 5, 6, 5,\n",
       "       1, 6, 5, 3, 3, 3, 4, 5, 8, 4, 0, 0, 5, 2, 0, 5, 3, 3, 4, 0, 7, 6,\n",
       "       0, 1, 2, 6, 2, 2, 8, 7, 8, 7, 3, 2, 5, 3, 5, 3, 7, 7, 2, 7, 1, 3,\n",
       "       3, 6, 5, 9, 9, 5, 6, 6, 6, 4, 1, 5, 0, 1, 4, 6, 3, 6, 9, 0, 6, 3,\n",
       "       5, 5, 4, 5, 6, 2, 3, 3, 4, 0, 4, 3, 8, 9, 4, 9, 1, 4, 6, 3, 5, 5,\n",
       "       2, 9, 6, 2, 0, 6, 5, 6, 5, 4, 5, 9, 6, 5, 0, 0, 7, 5, 0, 4, 7, 0,\n",
       "       9, 1, 5, 6, 3, 4, 1, 2, 5, 9, 8, 4, 2, 8, 4, 3, 2, 4, 4, 2, 2, 7,\n",
       "       6, 9, 0, 2, 1, 6, 1, 5, 2, 5, 5, 8, 8, 6, 5, 8, 3, 7, 7, 9, 3, 5,\n",
       "       0, 8, 5, 0, 5, 4, 3, 0, 5, 2, 1, 1, 8, 2, 6, 6, 5, 0, 3, 0, 5, 9,\n",
       "       4, 5, 5, 1, 4, 9, 9, 3, 1, 7, 3, 6, 1, 5, 2, 8, 6, 1, 1, 7, 5, 0,\n",
       "       7, 5, 5, 0, 5, 5, 3, 4, 1, 6, 7, 6, 4, 5, 9, 6, 6, 9, 0, 9, 3, 6,\n",
       "       6, 5, 5, 0, 3, 6, 0, 9, 0, 0, 1, 6, 9, 0, 3, 4, 7, 2, 0, 5, 7, 5,\n",
       "       8, 3, 0, 3, 9, 0, 7, 6, 3, 6, 7, 7, 1, 0, 0, 1, 5, 8, 7, 6, 5, 6,\n",
       "       2, 3, 3, 5, 7, 5, 7, 3, 4, 4, 0, 4, 3, 4, 6, 2, 5, 0, 4, 7, 8, 3,\n",
       "       3, 6, 2, 1, 9, 3, 8, 6, 1, 2, 1, 3, 4, 0, 2, 1, 4, 7, 8, 0, 3, 3,\n",
       "       3, 9, 3, 7, 1, 2, 5, 5, 8, 2, 5, 3, 5, 2, 7, 1, 5, 7, 9, 3, 0, 2,\n",
       "       2, 8, 3, 3, 0, 5, 4, 6, 0, 5])"
      ]
     },
     "execution_count": 81,
     "metadata": {},
     "output_type": "execute_result"
    }
   ],
   "source": [
    "pred"
   ]
  }
 ],
 "metadata": {
  "kernelspec": {
   "display_name": "Python 3",
   "language": "python",
   "name": "python3"
  },
  "language_info": {
   "codemirror_mode": {
    "name": "ipython",
    "version": 3
   },
   "file_extension": ".py",
   "mimetype": "text/x-python",
   "name": "python",
   "nbconvert_exporter": "python",
   "pygments_lexer": "ipython3",
   "version": "3.7.1"
  }
 },
 "nbformat": 4,
 "nbformat_minor": 2
}
